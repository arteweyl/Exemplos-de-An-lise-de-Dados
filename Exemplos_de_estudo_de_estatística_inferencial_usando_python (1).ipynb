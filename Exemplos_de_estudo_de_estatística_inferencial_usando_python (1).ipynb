{
  "nbformat": 4,
  "nbformat_minor": 0,
  "metadata": {
    "colab": {
      "provenance": []
    },
    "kernelspec": {
      "name": "python3",
      "display_name": "Python 3"
    },
    "language_info": {
      "name": "python"
    }
  },
  "cells": [
    {
      "cell_type": "markdown",
      "source": [
        "#Aqui vamos ver tópicas de estatística inferencial utilizando python.\n",
        "\n",
        "como fazer uma amostra, utilizar de distribuições normais e  calcular intervalos de confiança"
      ],
      "metadata": {
        "id": "fISh7X23wXxW"
      }
    },
    {
      "cell_type": "markdown",
      "source": [
        "##importando bibliotecas necessárias\n",
        "\n",
        "fora as bibliotecas mais conhecidas. vamos usar o método do scipy.stats, o norm que gera uma distribuição normal."
      ],
      "metadata": {
        "id": "F4iqKQ1oNASV"
      }
    },
    {
      "cell_type": "code",
      "source": [
        "import numpy as np\n",
        "import pandas as pd\n",
        "import matplotlib.pyplot as plt\n",
        "import seaborn as sns\n",
        "\n",
        "from scipy.stats import norm\n",
        "import scipy.stats as st\n",
        "\n",
        "import os\n",
        "import random"
      ],
      "metadata": {
        "id": "x7BduoacNDWp"
      },
      "execution_count": 5,
      "outputs": []
    },
    {
      "cell_type": "markdown",
      "source": [
        "## Amostragem\n",
        "\n",
        "alguns métodos de como criar amostragem no python"
      ],
      "metadata": {
        "id": "CTI97qzdJfOp"
      }
    },
    {
      "cell_type": "markdown",
      "source": [
        "### criando lista de queijos e tirando amostra simples aleatória\n",
        "\n",
        " uma produtora de queijos deseja fazer um estudo sobre a qualidade do seu produto. para isso ela vai conduzir uma amostragem simples aleatória de 20 queijos em um lote de 100. Cada queijo recebe uma identificação numérica\n",
        "\n",
        "Ao termino dessa célula teremos uma amostragem aleatória em cima da lista."
      ],
      "metadata": {
        "id": "G8PndyevLW6P"
      }
    },
    {
      "cell_type": "code",
      "source": [
        "lista_queijos = list(range(1,101))\n",
        "amostra_aleatoria_queijos = random.sample(lista_queijos, k=20)\n",
        "amostra_aleatoria_queijos"
      ],
      "metadata": {
        "colab": {
          "base_uri": "https://localhost:8080/"
        },
        "id": "Tr9kBTwVLTXj",
        "outputId": "e8c11ba7-2412-4774-f280-efcc76955d3f"
      },
      "execution_count": 4,
      "outputs": [
        {
          "output_type": "execute_result",
          "data": {
            "text/plain": [
              "[16, 44, 38, 23, 77, 72, 3, 45, 34, 57, 24, 37, 61, 73, 65, 74, 9, 21, 86, 98]"
            ]
          },
          "metadata": {},
          "execution_count": 4
        }
      ]
    },
    {
      "cell_type": "markdown",
      "source": [
        "### criando amostragem selecionando cidades\n",
        "\n",
        "Um grupo de pesquisa deseja estudar nível de educação em algumas cidades do Brasil. Para isso, precisam selecionar da população original, 2 itens de cada uma das cidades consideradas no estudo para incluir na amostra. "
      ],
      "metadata": {
        "id": "ET5Ps5ewNKcg"
      }
    },
    {
      "cell_type": "markdown",
      "source": [
        "#### Criando dataframe"
      ],
      "metadata": {
        "id": "On9Sm8C3ODcC"
      }
    },
    {
      "cell_type": "code",
      "source": [
        "cidades = {\"cidade\": [\"Belo Horizonte\",\"Porto Alegre\", \"Rio de Janeiro\", \"Belem\",\n",
        "                      \"Porto Alegre\", \"Porto Alegre\",\"Vitoria\", \"Maceio\",\"Belem\",\n",
        "                     \"Belo Horizonte\", \"Maceio\", \"Vitoria\", \"Belem\", \"Rio de Janeiro\",\"Belo Horizonte\",\"Porto Alegre\", \"Belo Horizonte\",\n",
        "                     \"Belo Horizonte\", \"Belem\",\"Porto Alegre\", \"Vitoria\", \"Rio de Janeiro\",\n",
        "                      \"Belo Horizonte\", \"Belem\", \"Maceio\", \"Vitoria\"]}\n",
        "\n",
        "cidades_df = pd.DataFrame(data=cidades)\n",
        "cidades_df"
      ],
      "metadata": {
        "colab": {
          "base_uri": "https://localhost:8080/",
          "height": 864
        },
        "id": "Jvrrm5tuNIxZ",
        "outputId": "91d323f2-fb9f-42eb-d477-038cd431374b"
      },
      "execution_count": 8,
      "outputs": [
        {
          "output_type": "execute_result",
          "data": {
            "text/plain": [
              "            cidade\n",
              "0   Belo Horizonte\n",
              "1     Porto Alegre\n",
              "2   Rio de Janeiro\n",
              "3            Belem\n",
              "4     Porto Alegre\n",
              "5     Porto Alegre\n",
              "6          Vitoria\n",
              "7           Maceio\n",
              "8            Belem\n",
              "9   Belo Horizonte\n",
              "10          Maceio\n",
              "11         Vitoria\n",
              "12           Belem\n",
              "13  Rio de Janeiro\n",
              "14  Belo Horizonte\n",
              "15    Porto Alegre\n",
              "16  Belo Horizonte\n",
              "17  Belo Horizonte\n",
              "18           Belem\n",
              "19    Porto Alegre\n",
              "20         Vitoria\n",
              "21  Rio de Janeiro\n",
              "22  Belo Horizonte\n",
              "23           Belem\n",
              "24          Maceio\n",
              "25         Vitoria"
            ],
            "text/html": [
              "\n",
              "  <div id=\"df-a31f2cd5-b9a0-44cb-b211-29caa7d1f668\">\n",
              "    <div class=\"colab-df-container\">\n",
              "      <div>\n",
              "<style scoped>\n",
              "    .dataframe tbody tr th:only-of-type {\n",
              "        vertical-align: middle;\n",
              "    }\n",
              "\n",
              "    .dataframe tbody tr th {\n",
              "        vertical-align: top;\n",
              "    }\n",
              "\n",
              "    .dataframe thead th {\n",
              "        text-align: right;\n",
              "    }\n",
              "</style>\n",
              "<table border=\"1\" class=\"dataframe\">\n",
              "  <thead>\n",
              "    <tr style=\"text-align: right;\">\n",
              "      <th></th>\n",
              "      <th>cidade</th>\n",
              "    </tr>\n",
              "  </thead>\n",
              "  <tbody>\n",
              "    <tr>\n",
              "      <th>0</th>\n",
              "      <td>Belo Horizonte</td>\n",
              "    </tr>\n",
              "    <tr>\n",
              "      <th>1</th>\n",
              "      <td>Porto Alegre</td>\n",
              "    </tr>\n",
              "    <tr>\n",
              "      <th>2</th>\n",
              "      <td>Rio de Janeiro</td>\n",
              "    </tr>\n",
              "    <tr>\n",
              "      <th>3</th>\n",
              "      <td>Belem</td>\n",
              "    </tr>\n",
              "    <tr>\n",
              "      <th>4</th>\n",
              "      <td>Porto Alegre</td>\n",
              "    </tr>\n",
              "    <tr>\n",
              "      <th>5</th>\n",
              "      <td>Porto Alegre</td>\n",
              "    </tr>\n",
              "    <tr>\n",
              "      <th>6</th>\n",
              "      <td>Vitoria</td>\n",
              "    </tr>\n",
              "    <tr>\n",
              "      <th>7</th>\n",
              "      <td>Maceio</td>\n",
              "    </tr>\n",
              "    <tr>\n",
              "      <th>8</th>\n",
              "      <td>Belem</td>\n",
              "    </tr>\n",
              "    <tr>\n",
              "      <th>9</th>\n",
              "      <td>Belo Horizonte</td>\n",
              "    </tr>\n",
              "    <tr>\n",
              "      <th>10</th>\n",
              "      <td>Maceio</td>\n",
              "    </tr>\n",
              "    <tr>\n",
              "      <th>11</th>\n",
              "      <td>Vitoria</td>\n",
              "    </tr>\n",
              "    <tr>\n",
              "      <th>12</th>\n",
              "      <td>Belem</td>\n",
              "    </tr>\n",
              "    <tr>\n",
              "      <th>13</th>\n",
              "      <td>Rio de Janeiro</td>\n",
              "    </tr>\n",
              "    <tr>\n",
              "      <th>14</th>\n",
              "      <td>Belo Horizonte</td>\n",
              "    </tr>\n",
              "    <tr>\n",
              "      <th>15</th>\n",
              "      <td>Porto Alegre</td>\n",
              "    </tr>\n",
              "    <tr>\n",
              "      <th>16</th>\n",
              "      <td>Belo Horizonte</td>\n",
              "    </tr>\n",
              "    <tr>\n",
              "      <th>17</th>\n",
              "      <td>Belo Horizonte</td>\n",
              "    </tr>\n",
              "    <tr>\n",
              "      <th>18</th>\n",
              "      <td>Belem</td>\n",
              "    </tr>\n",
              "    <tr>\n",
              "      <th>19</th>\n",
              "      <td>Porto Alegre</td>\n",
              "    </tr>\n",
              "    <tr>\n",
              "      <th>20</th>\n",
              "      <td>Vitoria</td>\n",
              "    </tr>\n",
              "    <tr>\n",
              "      <th>21</th>\n",
              "      <td>Rio de Janeiro</td>\n",
              "    </tr>\n",
              "    <tr>\n",
              "      <th>22</th>\n",
              "      <td>Belo Horizonte</td>\n",
              "    </tr>\n",
              "    <tr>\n",
              "      <th>23</th>\n",
              "      <td>Belem</td>\n",
              "    </tr>\n",
              "    <tr>\n",
              "      <th>24</th>\n",
              "      <td>Maceio</td>\n",
              "    </tr>\n",
              "    <tr>\n",
              "      <th>25</th>\n",
              "      <td>Vitoria</td>\n",
              "    </tr>\n",
              "  </tbody>\n",
              "</table>\n",
              "</div>\n",
              "      <button class=\"colab-df-convert\" onclick=\"convertToInteractive('df-a31f2cd5-b9a0-44cb-b211-29caa7d1f668')\"\n",
              "              title=\"Convert this dataframe to an interactive table.\"\n",
              "              style=\"display:none;\">\n",
              "        \n",
              "  <svg xmlns=\"http://www.w3.org/2000/svg\" height=\"24px\"viewBox=\"0 0 24 24\"\n",
              "       width=\"24px\">\n",
              "    <path d=\"M0 0h24v24H0V0z\" fill=\"none\"/>\n",
              "    <path d=\"M18.56 5.44l.94 2.06.94-2.06 2.06-.94-2.06-.94-.94-2.06-.94 2.06-2.06.94zm-11 1L8.5 8.5l.94-2.06 2.06-.94-2.06-.94L8.5 2.5l-.94 2.06-2.06.94zm10 10l.94 2.06.94-2.06 2.06-.94-2.06-.94-.94-2.06-.94 2.06-2.06.94z\"/><path d=\"M17.41 7.96l-1.37-1.37c-.4-.4-.92-.59-1.43-.59-.52 0-1.04.2-1.43.59L10.3 9.45l-7.72 7.72c-.78.78-.78 2.05 0 2.83L4 21.41c.39.39.9.59 1.41.59.51 0 1.02-.2 1.41-.59l7.78-7.78 2.81-2.81c.8-.78.8-2.07 0-2.86zM5.41 20L4 18.59l7.72-7.72 1.47 1.35L5.41 20z\"/>\n",
              "  </svg>\n",
              "      </button>\n",
              "      \n",
              "  <style>\n",
              "    .colab-df-container {\n",
              "      display:flex;\n",
              "      flex-wrap:wrap;\n",
              "      gap: 12px;\n",
              "    }\n",
              "\n",
              "    .colab-df-convert {\n",
              "      background-color: #E8F0FE;\n",
              "      border: none;\n",
              "      border-radius: 50%;\n",
              "      cursor: pointer;\n",
              "      display: none;\n",
              "      fill: #1967D2;\n",
              "      height: 32px;\n",
              "      padding: 0 0 0 0;\n",
              "      width: 32px;\n",
              "    }\n",
              "\n",
              "    .colab-df-convert:hover {\n",
              "      background-color: #E2EBFA;\n",
              "      box-shadow: 0px 1px 2px rgba(60, 64, 67, 0.3), 0px 1px 3px 1px rgba(60, 64, 67, 0.15);\n",
              "      fill: #174EA6;\n",
              "    }\n",
              "\n",
              "    [theme=dark] .colab-df-convert {\n",
              "      background-color: #3B4455;\n",
              "      fill: #D2E3FC;\n",
              "    }\n",
              "\n",
              "    [theme=dark] .colab-df-convert:hover {\n",
              "      background-color: #434B5C;\n",
              "      box-shadow: 0px 1px 3px 1px rgba(0, 0, 0, 0.15);\n",
              "      filter: drop-shadow(0px 1px 2px rgba(0, 0, 0, 0.3));\n",
              "      fill: #FFFFFF;\n",
              "    }\n",
              "  </style>\n",
              "\n",
              "      <script>\n",
              "        const buttonEl =\n",
              "          document.querySelector('#df-a31f2cd5-b9a0-44cb-b211-29caa7d1f668 button.colab-df-convert');\n",
              "        buttonEl.style.display =\n",
              "          google.colab.kernel.accessAllowed ? 'block' : 'none';\n",
              "\n",
              "        async function convertToInteractive(key) {\n",
              "          const element = document.querySelector('#df-a31f2cd5-b9a0-44cb-b211-29caa7d1f668');\n",
              "          const dataTable =\n",
              "            await google.colab.kernel.invokeFunction('convertToInteractive',\n",
              "                                                     [key], {});\n",
              "          if (!dataTable) return;\n",
              "\n",
              "          const docLinkHtml = 'Like what you see? Visit the ' +\n",
              "            '<a target=\"_blank\" href=https://colab.research.google.com/notebooks/data_table.ipynb>data table notebook</a>'\n",
              "            + ' to learn more about interactive tables.';\n",
              "          element.innerHTML = '';\n",
              "          dataTable['output_type'] = 'display_data';\n",
              "          await google.colab.output.renderOutput(dataTable, element);\n",
              "          const docLink = document.createElement('div');\n",
              "          docLink.innerHTML = docLinkHtml;\n",
              "          element.appendChild(docLink);\n",
              "        }\n",
              "      </script>\n",
              "    </div>\n",
              "  </div>\n",
              "  "
            ]
          },
          "metadata": {},
          "execution_count": 8
        }
      ]
    },
    {
      "cell_type": "markdown",
      "source": [
        "#### agrupando os valores e usando lambda\n",
        "\n",
        "para agruparmos os valores da pesquisa por cidades, usamos o método groupby e escolhemos cidade como parametro.\n",
        "\n",
        "usamos ainda a função apply, onde passamos um parametro que queremos seguir, nesse caso vamos usar uma função lambda, que o parametro passado nela é aplicado como função em todo o DF."
      ],
      "metadata": {
        "id": "wp1mw4KdQ_y1"
      }
    },
    {
      "cell_type": "code",
      "source": [
        "cidades_df.groupby(\"cidade\").apply(lambda x: x.sample(2, random_state=42) )"
      ],
      "metadata": {
        "colab": {
          "base_uri": "https://localhost:8080/",
          "height": 457
        },
        "id": "xPziueeuN3Iu",
        "outputId": "0fcc94c5-64eb-47d1-ec03-ab4c08202911"
      },
      "execution_count": 9,
      "outputs": [
        {
          "output_type": "execute_result",
          "data": {
            "text/plain": [
              "                           cidade\n",
              "cidade                           \n",
              "Belem          8            Belem\n",
              "               23           Belem\n",
              "Belo Horizonte 0   Belo Horizonte\n",
              "               9   Belo Horizonte\n",
              "Maceio         7           Maceio\n",
              "               10          Maceio\n",
              "Porto Alegre   4     Porto Alegre\n",
              "               19    Porto Alegre\n",
              "Rio de Janeiro 2   Rio de Janeiro\n",
              "               13  Rio de Janeiro\n",
              "Vitoria        11         Vitoria\n",
              "               25         Vitoria"
            ],
            "text/html": [
              "\n",
              "  <div id=\"df-1de19788-cd39-409e-84f1-71418ad607d0\">\n",
              "    <div class=\"colab-df-container\">\n",
              "      <div>\n",
              "<style scoped>\n",
              "    .dataframe tbody tr th:only-of-type {\n",
              "        vertical-align: middle;\n",
              "    }\n",
              "\n",
              "    .dataframe tbody tr th {\n",
              "        vertical-align: top;\n",
              "    }\n",
              "\n",
              "    .dataframe thead th {\n",
              "        text-align: right;\n",
              "    }\n",
              "</style>\n",
              "<table border=\"1\" class=\"dataframe\">\n",
              "  <thead>\n",
              "    <tr style=\"text-align: right;\">\n",
              "      <th></th>\n",
              "      <th></th>\n",
              "      <th>cidade</th>\n",
              "    </tr>\n",
              "    <tr>\n",
              "      <th>cidade</th>\n",
              "      <th></th>\n",
              "      <th></th>\n",
              "    </tr>\n",
              "  </thead>\n",
              "  <tbody>\n",
              "    <tr>\n",
              "      <th rowspan=\"2\" valign=\"top\">Belem</th>\n",
              "      <th>8</th>\n",
              "      <td>Belem</td>\n",
              "    </tr>\n",
              "    <tr>\n",
              "      <th>23</th>\n",
              "      <td>Belem</td>\n",
              "    </tr>\n",
              "    <tr>\n",
              "      <th rowspan=\"2\" valign=\"top\">Belo Horizonte</th>\n",
              "      <th>0</th>\n",
              "      <td>Belo Horizonte</td>\n",
              "    </tr>\n",
              "    <tr>\n",
              "      <th>9</th>\n",
              "      <td>Belo Horizonte</td>\n",
              "    </tr>\n",
              "    <tr>\n",
              "      <th rowspan=\"2\" valign=\"top\">Maceio</th>\n",
              "      <th>7</th>\n",
              "      <td>Maceio</td>\n",
              "    </tr>\n",
              "    <tr>\n",
              "      <th>10</th>\n",
              "      <td>Maceio</td>\n",
              "    </tr>\n",
              "    <tr>\n",
              "      <th rowspan=\"2\" valign=\"top\">Porto Alegre</th>\n",
              "      <th>4</th>\n",
              "      <td>Porto Alegre</td>\n",
              "    </tr>\n",
              "    <tr>\n",
              "      <th>19</th>\n",
              "      <td>Porto Alegre</td>\n",
              "    </tr>\n",
              "    <tr>\n",
              "      <th rowspan=\"2\" valign=\"top\">Rio de Janeiro</th>\n",
              "      <th>2</th>\n",
              "      <td>Rio de Janeiro</td>\n",
              "    </tr>\n",
              "    <tr>\n",
              "      <th>13</th>\n",
              "      <td>Rio de Janeiro</td>\n",
              "    </tr>\n",
              "    <tr>\n",
              "      <th rowspan=\"2\" valign=\"top\">Vitoria</th>\n",
              "      <th>11</th>\n",
              "      <td>Vitoria</td>\n",
              "    </tr>\n",
              "    <tr>\n",
              "      <th>25</th>\n",
              "      <td>Vitoria</td>\n",
              "    </tr>\n",
              "  </tbody>\n",
              "</table>\n",
              "</div>\n",
              "      <button class=\"colab-df-convert\" onclick=\"convertToInteractive('df-1de19788-cd39-409e-84f1-71418ad607d0')\"\n",
              "              title=\"Convert this dataframe to an interactive table.\"\n",
              "              style=\"display:none;\">\n",
              "        \n",
              "  <svg xmlns=\"http://www.w3.org/2000/svg\" height=\"24px\"viewBox=\"0 0 24 24\"\n",
              "       width=\"24px\">\n",
              "    <path d=\"M0 0h24v24H0V0z\" fill=\"none\"/>\n",
              "    <path d=\"M18.56 5.44l.94 2.06.94-2.06 2.06-.94-2.06-.94-.94-2.06-.94 2.06-2.06.94zm-11 1L8.5 8.5l.94-2.06 2.06-.94-2.06-.94L8.5 2.5l-.94 2.06-2.06.94zm10 10l.94 2.06.94-2.06 2.06-.94-2.06-.94-.94-2.06-.94 2.06-2.06.94z\"/><path d=\"M17.41 7.96l-1.37-1.37c-.4-.4-.92-.59-1.43-.59-.52 0-1.04.2-1.43.59L10.3 9.45l-7.72 7.72c-.78.78-.78 2.05 0 2.83L4 21.41c.39.39.9.59 1.41.59.51 0 1.02-.2 1.41-.59l7.78-7.78 2.81-2.81c.8-.78.8-2.07 0-2.86zM5.41 20L4 18.59l7.72-7.72 1.47 1.35L5.41 20z\"/>\n",
              "  </svg>\n",
              "      </button>\n",
              "      \n",
              "  <style>\n",
              "    .colab-df-container {\n",
              "      display:flex;\n",
              "      flex-wrap:wrap;\n",
              "      gap: 12px;\n",
              "    }\n",
              "\n",
              "    .colab-df-convert {\n",
              "      background-color: #E8F0FE;\n",
              "      border: none;\n",
              "      border-radius: 50%;\n",
              "      cursor: pointer;\n",
              "      display: none;\n",
              "      fill: #1967D2;\n",
              "      height: 32px;\n",
              "      padding: 0 0 0 0;\n",
              "      width: 32px;\n",
              "    }\n",
              "\n",
              "    .colab-df-convert:hover {\n",
              "      background-color: #E2EBFA;\n",
              "      box-shadow: 0px 1px 2px rgba(60, 64, 67, 0.3), 0px 1px 3px 1px rgba(60, 64, 67, 0.15);\n",
              "      fill: #174EA6;\n",
              "    }\n",
              "\n",
              "    [theme=dark] .colab-df-convert {\n",
              "      background-color: #3B4455;\n",
              "      fill: #D2E3FC;\n",
              "    }\n",
              "\n",
              "    [theme=dark] .colab-df-convert:hover {\n",
              "      background-color: #434B5C;\n",
              "      box-shadow: 0px 1px 3px 1px rgba(0, 0, 0, 0.15);\n",
              "      filter: drop-shadow(0px 1px 2px rgba(0, 0, 0, 0.3));\n",
              "      fill: #FFFFFF;\n",
              "    }\n",
              "  </style>\n",
              "\n",
              "      <script>\n",
              "        const buttonEl =\n",
              "          document.querySelector('#df-1de19788-cd39-409e-84f1-71418ad607d0 button.colab-df-convert');\n",
              "        buttonEl.style.display =\n",
              "          google.colab.kernel.accessAllowed ? 'block' : 'none';\n",
              "\n",
              "        async function convertToInteractive(key) {\n",
              "          const element = document.querySelector('#df-1de19788-cd39-409e-84f1-71418ad607d0');\n",
              "          const dataTable =\n",
              "            await google.colab.kernel.invokeFunction('convertToInteractive',\n",
              "                                                     [key], {});\n",
              "          if (!dataTable) return;\n",
              "\n",
              "          const docLinkHtml = 'Like what you see? Visit the ' +\n",
              "            '<a target=\"_blank\" href=https://colab.research.google.com/notebooks/data_table.ipynb>data table notebook</a>'\n",
              "            + ' to learn more about interactive tables.';\n",
              "          element.innerHTML = '';\n",
              "          dataTable['output_type'] = 'display_data';\n",
              "          await google.colab.output.renderOutput(dataTable, element);\n",
              "          const docLink = document.createElement('div');\n",
              "          docLink.innerHTML = docLinkHtml;\n",
              "          element.appendChild(docLink);\n",
              "        }\n",
              "      </script>\n",
              "    </div>\n",
              "  </div>\n",
              "  "
            ]
          },
          "metadata": {},
          "execution_count": 9
        }
      ]
    },
    {
      "cell_type": "markdown",
      "source": [
        "essa tabela quer dizer que selecionamos esses itens pra representar cada cidade,. podemos ainda fazer a tabela sem a coluna que indica as cidades fazendo o parametro group_keys = false."
      ],
      "metadata": {
        "id": "Q-fzBnrYRtxd"
      }
    },
    {
      "cell_type": "markdown",
      "source": [],
      "metadata": {
        "id": "8bL1clbeR3IH"
      }
    },
    {
      "cell_type": "code",
      "source": [
        "cidades_df.groupby(\"cidade\", group_keys=False).apply(lambda x: x.sample(2, random_state=42))"
      ],
      "metadata": {
        "colab": {
          "base_uri": "https://localhost:8080/",
          "height": 426
        },
        "id": "GxNkGLFSRqDG",
        "outputId": "c8005ddc-5eac-4d04-a80b-7b1c25e70eea"
      },
      "execution_count": 10,
      "outputs": [
        {
          "output_type": "execute_result",
          "data": {
            "text/plain": [
              "            cidade\n",
              "8            Belem\n",
              "23           Belem\n",
              "0   Belo Horizonte\n",
              "9   Belo Horizonte\n",
              "7           Maceio\n",
              "10          Maceio\n",
              "4     Porto Alegre\n",
              "19    Porto Alegre\n",
              "2   Rio de Janeiro\n",
              "13  Rio de Janeiro\n",
              "11         Vitoria\n",
              "25         Vitoria"
            ],
            "text/html": [
              "\n",
              "  <div id=\"df-a9805faa-4452-4228-ad6d-054f60db9db2\">\n",
              "    <div class=\"colab-df-container\">\n",
              "      <div>\n",
              "<style scoped>\n",
              "    .dataframe tbody tr th:only-of-type {\n",
              "        vertical-align: middle;\n",
              "    }\n",
              "\n",
              "    .dataframe tbody tr th {\n",
              "        vertical-align: top;\n",
              "    }\n",
              "\n",
              "    .dataframe thead th {\n",
              "        text-align: right;\n",
              "    }\n",
              "</style>\n",
              "<table border=\"1\" class=\"dataframe\">\n",
              "  <thead>\n",
              "    <tr style=\"text-align: right;\">\n",
              "      <th></th>\n",
              "      <th>cidade</th>\n",
              "    </tr>\n",
              "  </thead>\n",
              "  <tbody>\n",
              "    <tr>\n",
              "      <th>8</th>\n",
              "      <td>Belem</td>\n",
              "    </tr>\n",
              "    <tr>\n",
              "      <th>23</th>\n",
              "      <td>Belem</td>\n",
              "    </tr>\n",
              "    <tr>\n",
              "      <th>0</th>\n",
              "      <td>Belo Horizonte</td>\n",
              "    </tr>\n",
              "    <tr>\n",
              "      <th>9</th>\n",
              "      <td>Belo Horizonte</td>\n",
              "    </tr>\n",
              "    <tr>\n",
              "      <th>7</th>\n",
              "      <td>Maceio</td>\n",
              "    </tr>\n",
              "    <tr>\n",
              "      <th>10</th>\n",
              "      <td>Maceio</td>\n",
              "    </tr>\n",
              "    <tr>\n",
              "      <th>4</th>\n",
              "      <td>Porto Alegre</td>\n",
              "    </tr>\n",
              "    <tr>\n",
              "      <th>19</th>\n",
              "      <td>Porto Alegre</td>\n",
              "    </tr>\n",
              "    <tr>\n",
              "      <th>2</th>\n",
              "      <td>Rio de Janeiro</td>\n",
              "    </tr>\n",
              "    <tr>\n",
              "      <th>13</th>\n",
              "      <td>Rio de Janeiro</td>\n",
              "    </tr>\n",
              "    <tr>\n",
              "      <th>11</th>\n",
              "      <td>Vitoria</td>\n",
              "    </tr>\n",
              "    <tr>\n",
              "      <th>25</th>\n",
              "      <td>Vitoria</td>\n",
              "    </tr>\n",
              "  </tbody>\n",
              "</table>\n",
              "</div>\n",
              "      <button class=\"colab-df-convert\" onclick=\"convertToInteractive('df-a9805faa-4452-4228-ad6d-054f60db9db2')\"\n",
              "              title=\"Convert this dataframe to an interactive table.\"\n",
              "              style=\"display:none;\">\n",
              "        \n",
              "  <svg xmlns=\"http://www.w3.org/2000/svg\" height=\"24px\"viewBox=\"0 0 24 24\"\n",
              "       width=\"24px\">\n",
              "    <path d=\"M0 0h24v24H0V0z\" fill=\"none\"/>\n",
              "    <path d=\"M18.56 5.44l.94 2.06.94-2.06 2.06-.94-2.06-.94-.94-2.06-.94 2.06-2.06.94zm-11 1L8.5 8.5l.94-2.06 2.06-.94-2.06-.94L8.5 2.5l-.94 2.06-2.06.94zm10 10l.94 2.06.94-2.06 2.06-.94-2.06-.94-.94-2.06-.94 2.06-2.06.94z\"/><path d=\"M17.41 7.96l-1.37-1.37c-.4-.4-.92-.59-1.43-.59-.52 0-1.04.2-1.43.59L10.3 9.45l-7.72 7.72c-.78.78-.78 2.05 0 2.83L4 21.41c.39.39.9.59 1.41.59.51 0 1.02-.2 1.41-.59l7.78-7.78 2.81-2.81c.8-.78.8-2.07 0-2.86zM5.41 20L4 18.59l7.72-7.72 1.47 1.35L5.41 20z\"/>\n",
              "  </svg>\n",
              "      </button>\n",
              "      \n",
              "  <style>\n",
              "    .colab-df-container {\n",
              "      display:flex;\n",
              "      flex-wrap:wrap;\n",
              "      gap: 12px;\n",
              "    }\n",
              "\n",
              "    .colab-df-convert {\n",
              "      background-color: #E8F0FE;\n",
              "      border: none;\n",
              "      border-radius: 50%;\n",
              "      cursor: pointer;\n",
              "      display: none;\n",
              "      fill: #1967D2;\n",
              "      height: 32px;\n",
              "      padding: 0 0 0 0;\n",
              "      width: 32px;\n",
              "    }\n",
              "\n",
              "    .colab-df-convert:hover {\n",
              "      background-color: #E2EBFA;\n",
              "      box-shadow: 0px 1px 2px rgba(60, 64, 67, 0.3), 0px 1px 3px 1px rgba(60, 64, 67, 0.15);\n",
              "      fill: #174EA6;\n",
              "    }\n",
              "\n",
              "    [theme=dark] .colab-df-convert {\n",
              "      background-color: #3B4455;\n",
              "      fill: #D2E3FC;\n",
              "    }\n",
              "\n",
              "    [theme=dark] .colab-df-convert:hover {\n",
              "      background-color: #434B5C;\n",
              "      box-shadow: 0px 1px 3px 1px rgba(0, 0, 0, 0.15);\n",
              "      filter: drop-shadow(0px 1px 2px rgba(0, 0, 0, 0.3));\n",
              "      fill: #FFFFFF;\n",
              "    }\n",
              "  </style>\n",
              "\n",
              "      <script>\n",
              "        const buttonEl =\n",
              "          document.querySelector('#df-a9805faa-4452-4228-ad6d-054f60db9db2 button.colab-df-convert');\n",
              "        buttonEl.style.display =\n",
              "          google.colab.kernel.accessAllowed ? 'block' : 'none';\n",
              "\n",
              "        async function convertToInteractive(key) {\n",
              "          const element = document.querySelector('#df-a9805faa-4452-4228-ad6d-054f60db9db2');\n",
              "          const dataTable =\n",
              "            await google.colab.kernel.invokeFunction('convertToInteractive',\n",
              "                                                     [key], {});\n",
              "          if (!dataTable) return;\n",
              "\n",
              "          const docLinkHtml = 'Like what you see? Visit the ' +\n",
              "            '<a target=\"_blank\" href=https://colab.research.google.com/notebooks/data_table.ipynb>data table notebook</a>'\n",
              "            + ' to learn more about interactive tables.';\n",
              "          element.innerHTML = '';\n",
              "          dataTable['output_type'] = 'display_data';\n",
              "          await google.colab.output.renderOutput(dataTable, element);\n",
              "          const docLink = document.createElement('div');\n",
              "          docLink.innerHTML = docLinkHtml;\n",
              "          element.appendChild(docLink);\n",
              "        }\n",
              "      </script>\n",
              "    </div>\n",
              "  </div>\n",
              "  "
            ]
          },
          "metadata": {},
          "execution_count": 10
        }
      ]
    },
    {
      "cell_type": "code",
      "source": [],
      "metadata": {
        "id": "zK9gbi6WR8Lj"
      },
      "execution_count": null,
      "outputs": []
    },
    {
      "cell_type": "markdown",
      "source": [
        "## Teorema do limite Central\n",
        "\n",
        "para quem não lembra, o teorema diz que ao pegar diversas amostras, a média das amostras, se elas foram acima de n=30, geramos uma distribuição muito próxima da \n",
        "\n",
        "```\n",
        "# Isto está formatado como código\n",
        "```\n",
        "\n",
        " normal."
      ],
      "metadata": {
        "id": "C2Gn_LgGTHLo"
      }
    },
    {
      "cell_type": "markdown",
      "source": [
        "### estabelecendo população e criando amostras aleatórias\n",
        "\n",
        "estabelecemos uma populacao de 3000 e vamos tirar 20 amostras de 40 itens,depois disso vamos fazer a média pra cada uma dessas amostras.  \n",
        "\n",
        "\n",
        "o resultado é uma lista com cada uma dessas médias"
      ],
      "metadata": {
        "id": "FukYcD4RVjzy"
      }
    },
    {
      "cell_type": "code",
      "source": [
        "populacao = range(3000)\n",
        "medias = []\n",
        "\n",
        "for i in range(20):\n",
        "  amostra = random.sample(populacao, k=40)\n",
        "  medias.append(np.mean(amostra))\n",
        "\n",
        "organizada = sorted(medias)\n",
        "print(organizada)"
      ],
      "metadata": {
        "colab": {
          "base_uri": "https://localhost:8080/"
        },
        "id": "oliYCMfgUNYH",
        "outputId": "335dac5f-ac79-4b8f-dbf8-7c84dcc4e05a"
      },
      "execution_count": 38,
      "outputs": [
        {
          "output_type": "stream",
          "name": "stdout",
          "text": [
            "[1297.975, 1389.1, 1404.875, 1407.1, 1420.65, 1445.875, 1451.375, 1505.2, 1523.575, 1527.7, 1568.225, 1569.4, 1579.925, 1600.1, 1600.6, 1630.075, 1641.575, 1646.375, 1655.625, 1826.95]\n"
          ]
        }
      ]
    },
    {
      "cell_type": "markdown",
      "source": [
        "### média das médias\n",
        "usamos o método np.mean() da lista de médias e tiramos a média das médias."
      ],
      "metadata": {
        "id": "1gBm6o73WDfi"
      }
    },
    {
      "cell_type": "code",
      "source": [
        "print(np.mean(medias))\n",
        "print(np.median(medias))"
      ],
      "metadata": {
        "colab": {
          "base_uri": "https://localhost:8080/"
        },
        "id": "oJm7Zz-eVP5Y",
        "outputId": "451fa5aa-0527-44fe-c344-fdf5164e919f"
      },
      "execution_count": 29,
      "outputs": [
        {
          "output_type": "stream",
          "name": "stdout",
          "text": [
            "1463.80375\n",
            "1437.7875\n"
          ]
        }
      ]
    },
    {
      "cell_type": "code",
      "source": [
        "np.median(medias)"
      ],
      "metadata": {
        "colab": {
          "base_uri": "https://localhost:8080/"
        },
        "id": "ZVQvT6wpWfWj",
        "outputId": "ab7d921d-a3c5-4677-ed33-cf192a5baea6"
      },
      "execution_count": 26,
      "outputs": [
        {
          "output_type": "execute_result",
          "data": {
            "text/plain": [
              "1437.7875"
            ]
          },
          "metadata": {},
          "execution_count": 26
        }
      ]
    },
    {
      "cell_type": "markdown",
      "source": [
        "## Distribuição normal\n",
        "\n",
        "vamos usar o seguinte conjunto de dados para os dois exemplos a seguir"
      ],
      "metadata": {
        "id": "Fyl2LH1pcAyG"
      }
    },
    {
      "cell_type": "code",
      "source": [
        "data = [-10.        ,  -9.7979798 ,  -9.5959596 ,  -9.39393939,\n",
        "        -9.19191919,  -8.98989899,  -8.78787879,  -8.58585859,\n",
        "        -8.38383838,  -8.18181818,  -7.97979798,  -7.77777778,\n",
        "        -7.57575758,  -7.37373737,  -7.17171717,  -6.96969697,\n",
        "        -6.76767677,  -6.56565657,  -6.36363636,  -6.16161616,\n",
        "        -5.95959596,  -5.75757576,  -5.55555556,  -5.35353535,\n",
        "        -5.15151515,  -4.94949495,  -4.74747475,  -4.54545455,\n",
        "        -4.34343434,  -4.14141414,  -3.93939394,  -3.73737374,\n",
        "        -3.53535354,  -3.33333333,  -3.13131313,  -2.92929293,\n",
        "        -2.72727273,  -2.52525253,  -2.32323232,  -2.12121212,\n",
        "        -1.91919192,  -1.71717172,  -1.51515152,  -1.31313131,\n",
        "        -1.11111111,  -0.90909091,  -0.70707071,  -0.50505051,\n",
        "        -0.3030303 ,  -0.1010101 ,   0.1010101 ,   0.3030303 ,\n",
        "         0.50505051,   0.70707071,   0.90909091,   1.11111111,\n",
        "         1.31313131,   1.51515152,   1.71717172,   1.91919192,\n",
        "         2.12121212,   2.32323232,   2.52525253,   2.72727273,\n",
        "         2.92929293,   3.13131313,   3.33333333,   3.53535354,\n",
        "         3.73737374,   3.93939394,   4.14141414,   4.34343434,\n",
        "         4.54545455,   4.74747475,   4.94949495,   5.15151515,\n",
        "         5.35353535,   5.55555556,   5.75757576,   5.95959596,\n",
        "         6.16161616,   6.36363636,   6.56565657,   6.76767677,\n",
        "         6.96969697,   7.17171717,   7.37373737,   7.57575758,\n",
        "         7.77777778,   7.97979798,   8.18181818,   8.38383838,\n",
        "         8.58585859,   8.78787879,   8.98989899,   9.19191919,\n",
        "         9.39393939,   9.5959596 ,   9.7979798 ,  10.        ]"
      ],
      "metadata": {
        "id": "3aNRID3ccUkj"
      },
      "execution_count": 51,
      "outputs": []
    },
    {
      "cell_type": "markdown",
      "source": [
        "###Plotando normais de acordo com seu desvio padrão"
      ],
      "metadata": {
        "id": "JzL3rrfUddid"
      }
    },
    {
      "cell_type": "markdown",
      "source": [],
      "metadata": {
        "id": "Z43QZWKCdi6b"
      }
    },
    {
      "cell_type": "code",
      "source": [
        "fig, ax = plt.subplots()\n",
        "\n",
        "stds = [1.0,2.0,3.0,4.0]\n",
        "\n",
        "for std in stds:\n",
        "  ax.plot(data,norm.pdf(data,scale=std),label = 'std =%.1f' %std)\n",
        "\n",
        "ax.set_ylabel('pdf(x)')\n",
        "ax.set_xlabel('x')\n",
        "ax.set_title('distribuição normal')\n",
        "ax.legend(loc='best',frameon=True)\n",
        "ax.grid(True)"
      ],
      "metadata": {
        "colab": {
          "base_uri": "https://localhost:8080/",
          "height": 295
        },
        "id": "MkQK-HdugRWI",
        "outputId": "b6c63b23-bd8f-4b6f-a5db-1e619342ae21"
      },
      "execution_count": 67,
      "outputs": [
        {
          "output_type": "display_data",
          "data": {
            "text/plain": [
              "<Figure size 432x288 with 1 Axes>"
            ],
            "image/png": "[encoded data removed]"
          },
          "metadata": {
            "needs_background": "light"
          }
        }
      ]
    },
    {
      "cell_type": "markdown",
      "source": [
        "###Plotando normais de acordo com sua média"
      ],
      "metadata": {
        "id": "MWqflBfIlGPv"
      }
    },
    {
      "cell_type": "code",
      "source": [
        "fig, ax = plt.subplots()\n",
        "\n",
        "medias = [0.0, 1.0, 2.0, 5.0]\n",
        "\n",
        "for media in medias:\n",
        "  ax.plot(data, norm.pdf(data,loc=media), label=\"media=%.1f\" %media)\n",
        "  ax.set_ylabel('pdf(x)')\n",
        "  ax.set_xlabel('x')\n",
        "  ax.set_title('distribuições normais')\n",
        "  ax.legend(loc='best')\n",
        "  ax.grid(True)"
      ],
      "metadata": {
        "colab": {
          "base_uri": "https://localhost:8080/",
          "height": 295
        },
        "id": "6An_MH60dU20",
        "outputId": "484cdfa1-8ddc-4b20-a664-33f31607ef88"
      },
      "execution_count": 79,
      "outputs": [
        {
          "output_type": "display_data",
          "data": {
            "text/plain": [
              "<Figure size 432x288 with 1 Axes>"
            ],
            "image/png": "[encoded data removed]"
          },
          "metadata": {
            "needs_background": "light"
          }
        }
      ]
    },
    {
      "cell_type": "markdown",
      "source": [
        "###plotando normais com médias e desvio diferentes\n",
        "\n",
        "como é possivel perceber nos exemplos anteriores, ao chamarmos o método norm.pdf() , scale representa o desvio padrão e loc representa a média. não confundir com loc e scale em outros métodos."
      ],
      "metadata": {
        "id": "iY21jsCulLXN"
      }
    },
    {
      "cell_type": "code",
      "source": [
        "fig, ax = plt.subplots()\n",
        "\n",
        "data = np.linspace(-2.5,12.5,100)\n",
        "\n",
        "ax.plot(data, norm.pdf(data,loc=4.0, scale=1.0), label='media=%.1f' % 4.0)\n",
        "ax.plot(data, norm.pdf(data,loc=6.0, scale=2.0), label='media=%.1f' % 6.0)\n",
        "ax.legend(loc='best')\n",
        "ax.set_ylabel('pdf(x)')\n",
        "ax.set_xlabel('x')\n",
        "ax.set_title('Densidade de Probabilidades')\n",
        "ax.grid(True)"
      ],
      "metadata": {
        "colab": {
          "base_uri": "https://localhost:8080/",
          "height": 295
        },
        "id": "4nGiagUDi7lN",
        "outputId": "b58d5aa4-79d8-45c5-be22-4e5809d5ecc0"
      },
      "execution_count": 83,
      "outputs": [
        {
          "output_type": "display_data",
          "data": {
            "text/plain": [
              "<Figure size 432x288 with 1 Axes>"
            ],
            "image/png": "[encoded data removed]"
          },
          "metadata": {
            "needs_background": "light"
          }
        }
      ]
    },
    {
      "cell_type": "markdown",
      "source": [
        "###Exercício\n"
      ],
      "metadata": {
        "id": "QCVwcknKlftM"
      }
    },
    {
      "cell_type": "markdown",
      "source": [
        "Média de altura de uma população normalmente distribuída é 1.60 m, com desvio de 0.2m. Qual a probabilidade de selecionarmos uma pessoa aleatória e essa pessoa ser mais baixa que 1.40m?"
      ],
      "metadata": {
        "id": "Ikf4U25bwTT4"
      }
    },
    {
      "cell_type": "markdown",
      "source": [
        "#### Resposta"
      ],
      "metadata": {
        "id": "O4jUA6yLwEJ1"
      }
    },
    {
      "cell_type": "code",
      "source": [
        "fig, ax = plt.subplots()\n",
        "\n",
        "data = np.linspace(1.0, 2.5, 100)\n",
        "\n",
        "ax.plot(data, norm.pdf(data,loc=1.6, scale=0.2), label='mean=%.1f' % 1.6)\n",
        "ax.set_ylabel('pdf(x)')\n",
        "ax.set_xlabel('x')    \n",
        "ax.set_title('densidade de Probabilidade ')\n",
        "\n",
        "\n",
        "color_region = np.arange(1.0,1.4, 0.01)\n",
        "ax.fill_between(color_region, norm.pdf(color_region,loc=1.6,scale=0.2), alpha=0.5, color='red',label = \"área cdf\")\n",
        "ax.grid(True)\n",
        "ax.legend(loc='best')\n",
        "plt.show()"
      ],
      "metadata": {
        "colab": {
          "base_uri": "https://localhost:8080/",
          "height": 295
        },
        "id": "_nUBbhq9j8Zz",
        "outputId": "6af8223d-9374-42c5-8ce5-004e3a76ad4b"
      },
      "execution_count": 109,
      "outputs": [
        {
          "output_type": "display_data",
          "data": {
            "text/plain": [
              "<Figure size 432x288 with 1 Axes>"
            ],
            "image/png": "[encoded data removed]"
          },
          "metadata": {
            "needs_background": "light"
          }
        }
      ]
    },
    {
      "cell_type": "markdown",
      "source": [
        "a integral da área em vermelho gera a probabilidade que queremos, o cdf"
      ],
      "metadata": {
        "id": "HNvlT16AqJ4o"
      }
    },
    {
      "cell_type": "code",
      "source": [
        "norm(loc=1.6, scale=0.2).cdf(1.4)"
      ],
      "metadata": {
        "colab": {
          "base_uri": "https://localhost:8080/"
        },
        "id": "e6xXTdN6mHc8",
        "outputId": "f914f202-a356-40de-97fe-0cdc7e0881bd"
      },
      "execution_count": 100,
      "outputs": [
        {
          "output_type": "execute_result",
          "data": {
            "text/plain": [
              "0.15865525393145685"
            ]
          },
          "metadata": {},
          "execution_count": 100
        }
      ]
    },
    {
      "cell_type": "markdown",
      "source": [],
      "metadata": {
        "id": "KOWhWUzcwQgx"
      }
    },
    {
      "cell_type": "markdown",
      "source": [
        "###Exercício"
      ],
      "metadata": {
        "id": "HOouESZnt-Bl"
      }
    },
    {
      "cell_type": "markdown",
      "source": [
        "Suponha que uma variável aleatória X seja normalmente distribuída, com média 3 e desvio padrão 2. Qual a probabilidade que um ponto nessa distribuição seja maior que 2?\n",
        "\n",
        "Formalmente queremos descobrir 𝑃(𝑋>2), dado que X ~ N (3, 2^2), ou seja a variável X segue uma distribuição normal com média 3 e variância 4 (desvio padrão 2). \n",
        "\n",
        "A área de interesse aparece destacada em vermelho abaixo."
      ],
      "metadata": {
        "id": "lmGzdsrmt7Bh"
      }
    },
    {
      "cell_type": "markdown",
      "source": [
        "![image.png](data:image/png;base64,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)"
      ],
      "metadata": {
        "id": "R-_jiJFIuSNH"
      }
    },
    {
      "cell_type": "markdown",
      "source": [
        "####resposta"
      ],
      "metadata": {
        "id": "QLMF4LCVuHA3"
      }
    },
    {
      "cell_type": "code",
      "source": [
        "#código do gráfico pra referência\n",
        "fig, ax = plt.subplots()\n",
        "\n",
        "data = np.arange(-4, 10, 0.1)\n",
        "ax.plot(data, norm.pdf(data, loc=3, scale=2))\n",
        "\n",
        "ax.set_xlabel('x')\n",
        "ax.set_ylabel('pdf(x)')\n",
        "ax.set_title(\"Distribuição de X\")\n",
        "ax.grid(True)\n",
        "\n",
        "color_region = np.arange(2, 10, 0.01)\n",
        "ax.set_ylim(0,0.25)\n",
        "ax.fill_between(color_region, norm.pdf(color_region,loc=3,scale=2), alpha=0.5, color='red')\n",
        "\n",
        "plt.show()"
      ],
      "metadata": {
        "colab": {
          "base_uri": "https://localhost:8080/",
          "height": 295
        },
        "id": "o__GhMEluzn5",
        "outputId": "a2c62a38-8121-4c6f-cdcf-3f86aaecb36a"
      },
      "execution_count": 122,
      "outputs": [
        {
          "output_type": "display_data",
          "data": {
            "text/plain": [
              "<Figure size 432x288 with 1 Axes>"
            ],
            "image/png": "[encoded data removed]"
          },
          "metadata": {
            "needs_background": "light"
          }
        }
      ]
    },
    {
      "cell_type": "code",
      "source": [
        "probabilidade_maior_2 = 1- norm.cdf(x=2, loc=3, scale=2)\n",
        "print(probabilidade_maior_2)"
      ],
      "metadata": {
        "colab": {
          "base_uri": "https://localhost:8080/"
        },
        "id": "xuW4y8pXozm9",
        "outputId": "eac06938-a3a4-4541-ad62-f0546ba9a6ec"
      },
      "execution_count": 120,
      "outputs": [
        {
          "output_type": "stream",
          "name": "stdout",
          "text": [
            "0.6914624612740131\n"
          ]
        }
      ]
    },
    {
      "cell_type": "code",
      "source": [],
      "metadata": {
        "id": "YVnTpi6Iuko8"
      },
      "execution_count": null,
      "outputs": []
    },
    {
      "cell_type": "markdown",
      "source": [
        "## Intervalo de Confiança\n",
        "\n"
      ],
      "metadata": {
        "id": "qYNWxgdwq_7t"
      }
    },
    {
      "cell_type": "markdown",
      "source": [
        "Caso:\n",
        "\n",
        "Peso de uma população, vamos criar um intervalo de confiança com nível de confiança 95% para o peso populacional médio.\n",
        "Usar a distribuição t (n<30)"
      ],
      "metadata": {
        "id": "CMRXUtVnrFjt"
      }
    },
    {
      "cell_type": "code",
      "source": [
        "sample = [12, 12, 13, 13, 15, 16, 17, 22, 23, 25, 26, 27, 28, 28, 29]\n",
        "\n",
        "teste_peso_95 = st.t.interval(alpha=0.95, df=len(sample)-1, loc=np.mean(sample), scale=st.sem(sample)) "
      ],
      "metadata": {
        "id": "rJr9tOQArE4F"
      },
      "execution_count": 111,
      "outputs": []
    },
    {
      "cell_type": "code",
      "source": [
        "teste_peso_95"
      ],
      "metadata": {
        "colab": {
          "base_uri": "https://localhost:8080/"
        },
        "id": "y2P7bEvDrIU1",
        "outputId": "e1891cdb-80b3-4e54-c950-dd9de749cfb2"
      },
      "execution_count": 112,
      "outputs": [
        {
          "output_type": "execute_result",
          "data": {
            "text/plain": [
              "(16.75776979778498, 24.042230202215016)"
            ]
          },
          "metadata": {},
          "execution_count": 112
        }
      ]
    },
    {
      "cell_type": "markdown",
      "source": [
        "Usando nível de confiança de 99%"
      ],
      "metadata": {
        "id": "f4IcuaJlrRzB"
      }
    },
    {
      "cell_type": "code",
      "source": [
        "teste_peso_99 = st.t.interval(alpha=0.99, df=len(sample)-1, loc=np.mean(sample), scale=st.sem(sample)) \n",
        "teste_peso_99"
      ],
      "metadata": {
        "colab": {
          "base_uri": "https://localhost:8080/"
        },
        "id": "B6CmnlU7rMo9",
        "outputId": "b0a74920-349a-4f45-e8f7-0dce36243e75"
      },
      "execution_count": 114,
      "outputs": [
        {
          "output_type": "execute_result",
          "data": {
            "text/plain": [
              "(15.3447902793728, 25.455209720627195)"
            ]
          },
          "metadata": {},
          "execution_count": 114
        }
      ]
    },
    {
      "cell_type": "code",
      "source": [
        "np.random.seed(42)\n",
        "sample_data = np.random.randint(10, 30, 50)\n",
        "\n",
        "test_norm_95 = st.norm.interval(alpha=0.95, loc=np.mean(sample_data), scale=st.sem(sample_data))"
      ],
      "metadata": {
        "id": "H5Wby_FxrT9m"
      },
      "execution_count": 115,
      "outputs": []
    },
    {
      "cell_type": "code",
      "source": [
        "test_norm_95"
      ],
      "metadata": {
        "colab": {
          "base_uri": "https://localhost:8080/"
        },
        "id": "x-z7glazrfq-",
        "outputId": "26294b72-5ab8-4cc4-9bab-d76d4f5c8370"
      },
      "execution_count": 116,
      "outputs": [
        {
          "output_type": "execute_result",
          "data": {
            "text/plain": [
              "(18.25642372955045, 21.46357627044955)"
            ]
          },
          "metadata": {},
          "execution_count": 116
        }
      ]
    },
    {
      "cell_type": "markdown",
      "source": [
        "## Teste de Hipotese\n",
        "\n",
        "\n"
      ],
      "metadata": {
        "id": "3SYxs9cUrr0b"
      }
    },
    {
      "cell_type": "code",
      "source": [
        "sample_a = np.random.normal(24, 10, 10000)\n",
        "sample_b_1 = np.random.normal(24, 10, 10000)\n",
        "sample_b_2 = np.random.normal(25, 10, 10000)\n",
        "plt.figure(figsize=(20, 10))\n",
        "sns.kdeplot(sample_a, label=\"A\", shade = True, color = '#000000')\n",
        "sns.kdeplot(sample_b_1, label=\"B_1\", shade = True, color = '#B22222')\n",
        "sns.kdeplot(sample_b_2, label=\"B_2\", shade = True, color = '#00008B')\n",
        "plt.legend()"
      ],
      "metadata": {
        "colab": {
          "base_uri": "https://localhost:8080/",
          "height": 609
        },
        "id": "S2idY6ZMrizV",
        "outputId": "36e6027f-795b-4ddc-ee4b-d0c99b811405"
      },
      "execution_count": 117,
      "outputs": [
        {
          "output_type": "execute_result",
          "data": {
            "text/plain": [
              "<matplotlib.legend.Legend at 0x7fa823962b90>"
            ]
          },
          "metadata": {},
          "execution_count": 117
        },
        {
          "output_type": "display_data",
          "data": {
            "text/plain": [
              "<Figure size 1440x720 with 1 Axes>"
            ],
            "image/png": "[encoded data removed]"
          },
          "metadata": {
            "needs_background": "light"
          }
        }
      ]
    },
    {
      "cell_type": "code",
      "source": [
        "import scipy.stats as stats\n",
        "## H0: A = B\n",
        "## H1: A != B\n",
        "test_1 = stats.ttest_ind(sample_b_1,sample_a, equal_var = True)\n",
        "test_2 = stats.ttest_ind(sample_b_2,sample_a, equal_var = True)\n",
        "print(test_1)\n",
        "print(test_2)"
      ],
      "metadata": {
        "colab": {
          "base_uri": "https://localhost:8080/"
        },
        "id": "7GZ2WDT_rua-",
        "outputId": "b6fa47ef-e914-4572-ed06-d89d41cde2ac"
      },
      "execution_count": 118,
      "outputs": [
        {
          "output_type": "stream",
          "name": "stdout",
          "text": [
            "Ttest_indResult(statistic=1.6903665082373118, pvalue=0.09097344302770094)\n",
            "Ttest_indResult(statistic=8.228607001222672, pvalue=2.0088667979678142e-16)\n"
          ]
        }
      ]
    },
    {
      "cell_type": "code",
      "source": [],
      "metadata": {
        "id": "h2YcO94or0mm"
      },
      "execution_count": null,
      "outputs": []
    }
  ]
}